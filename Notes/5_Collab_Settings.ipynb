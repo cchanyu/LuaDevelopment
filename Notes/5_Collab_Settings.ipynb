{
 "cells": [
  {
   "attachments": {},
   "cell_type": "markdown",
   "metadata": {},
   "source": [
    "### Multiple Developer Collaboration Set Up<br>\n",
    "\n",
    "***\n",
    "\n",
    "<br>"
   ]
  },
  {
   "attachments": {},
   "cell_type": "markdown",
   "metadata": {},
   "source": [
    "https://create.roblox.com/docs/studio/collaboration"
   ]
  },
  {
   "attachments": {},
   "cell_type": "markdown",
   "metadata": {},
   "source": [
    "1. Find a Collab button at the top right<br>\n",
    "2. Add user to the collab<br>\n",
    "3. Friend can join to play or edit<br>\n",
    "Team Play allows real time multiplayer<br>"
   ]
  }
 ],
 "metadata": {
  "language_info": {
   "name": "python"
  },
  "orig_nbformat": 4
 },
 "nbformat": 4,
 "nbformat_minor": 2
}
