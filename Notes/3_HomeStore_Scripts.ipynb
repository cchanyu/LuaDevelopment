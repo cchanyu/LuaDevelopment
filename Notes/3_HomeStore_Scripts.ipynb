{
 "cells": [
  {
   "attachments": {},
   "cell_type": "markdown",
   "metadata": {},
   "source": [
    "### Environment Set Up<br>\n",
    "\n",
    "***\n",
    "\n",
    "<br>"
   ]
  },
  {
   "attachments": {},
   "cell_type": "markdown",
   "metadata": {},
   "source": [
    "All the physical blocks are stored in the ServerStorage<br>\n",
    "I think this prevents hackers messing with the blocks<br>"
   ]
  },
  {
   "attachments": {},
   "cell_type": "markdown",
   "metadata": {},
   "source": [
    "    Lighting - Lighting\n",
    "        Atmosphere - Atmosphere\n",
    "        SnowySkyBox - Sky\n",
    "        Bloom - BloomEffect\n",
    "        ColorCorrection - ColorCorrectionEffect\n",
    "        DepthOfField - DepthOfFieldEffect\n",
    "        SunRays - SunRaysEffect"
   ]
  },
  {
   "cell_type": "code",
   "execution_count": null,
   "metadata": {},
   "outputs": [],
   "source": [
    "# Atmosphere\n",
    "# Appearance\n",
    "Density: 0.258\n",
    "Offset: 0.182\n",
    "# State\n",
    "Color: [255,255,255]\n",
    "Decay: [255,255,255]\n",
    "Glare: 0.81\n",
    "Haze 1.45\n",
    "\n",
    "# -----------\n",
    "\n",
    "# Bloom\n",
    "# State\n",
    "Enabled: yes\n",
    "Intensity: 1\n",
    "Size: 24\n",
    "Threshold: 2\n",
    "\n",
    "# -----------\n",
    "\n",
    "# ColorCorrection\n",
    "# State\n",
    "Color Correction: -0.1\n",
    "Contrast: 0.1\n",
    "Enabled: yes\n",
    "Saturation: 0.2\n",
    "TintColor: [255,255,255]\n",
    "\n",
    "# -----------\n",
    "\n",
    "# DepthOfField\n",
    "# State\n",
    "Enabled: yes\n",
    "FarIntensity: 0.2\n",
    "FocusDistance: 30\n",
    "InFocusRadius: 0\n",
    "NearIntensity: 0\n",
    "\n",
    "# -----------\n",
    "\n",
    "# SunRays\n",
    "Enabled: yes\n",
    "Intensity: 0.047\n",
    "Spread: 0.797\n",
    "\n",
    "# -----------\n",
    "\n",
    "# Lighting\n"
   ]
  },
  {
   "attachments": {},
   "cell_type": "markdown",
   "metadata": {},
   "source": [
    "### Reset Button<br>\n",
    "\n",
    "***\n",
    "\n",
    "<br>"
   ]
  },
  {
   "attachments": {},
   "cell_type": "markdown",
   "metadata": {},
   "source": [
    "    StarterGUI - StartGUI\n",
    "        ResetButton - ScreenGUI\n",
    "            TextButton - TextButton\n",
    "                LocalScript - LocalScript"
   ]
  },
  {
   "cell_type": "code",
   "execution_count": null,
   "metadata": {},
   "outputs": [],
   "source": [
    "# LocalScript\n",
    "\n",
    "# script.Parent = TextButton\n",
    "# .Parent = ResetButton\n",
    "# .Parent = StartGUI\n",
    "# .Parent = Explorer\n",
    "# .Character:BreakJoint()\n",
    "\n",
    "# MouseButton1Down activates when the ScreenButton GUI is pressed.\n",
    "function MouseButton1Down()\n",
    "\tscript.Parent.Parent.Parent.Parent.Character:BreakJoints()\n",
    "end\n",
    "\n",
    "script.Parent.MouseButton1Down:connect(MouseButton1Down)"
   ]
  },
  {
   "attachments": {},
   "cell_type": "markdown",
   "metadata": {},
   "source": [
    "### NPC Wave Script<br>\n",
    "\n",
    "***\n",
    "\n",
    "<br>"
   ]
  },
  {
   "attachments": {},
   "cell_type": "markdown",
   "metadata": {},
   "source": [
    "    ServerStorage - ServerStorage\n",
    "        scripts - Folder\n",
    "            WaveScript - Script"
   ]
  },
  {
   "cell_type": "code",
   "execution_count": null,
   "metadata": {},
   "outputs": [],
   "source": [
    "# WaveScript\n",
    "Asset = \"http://www.roblox.com/Asset?id=\"\n",
    "IDs = {507770239}\n",
    "Anims = {}\n",
    "AnimsL = {}\n",
    "Human = script.Parent:WaitForChild(\"Humanoid\")\n",
    "\n",
    "for i=1, #IDs do\n",
    "\tlocal Anim = Instance.new(\"Animation\")\n",
    "\tAnim.AnimationId = (Asset..IDs[math.random(1,#IDs)])\n",
    "\ttable.insert(Anims,Anim)\n",
    "\twait()\n",
    "end\n",
    "\n",
    "for i=1, #Anims do\n",
    "\tlocal AnimL = Human:LoadAnimation(Anims[i])\n",
    "\ttable.insert(AnimsL,AnimL)\n",
    "\twait()\n",
    "end\n",
    "\n",
    "\n",
    "while true do\n",
    "\tlocal Dance = AnimsL[math.random(1,#AnimsL)]\n",
    "\tDance:Play()\n",
    "\twait(15)\n",
    "end\n",
    "\n",
    "--Put this in a r15 model character or it wont work."
   ]
  },
  {
   "attachments": {},
   "cell_type": "markdown",
   "metadata": {},
   "source": [
    "### NPC Self Movement Script<br>\n",
    "\n",
    "***\n",
    "\n",
    "<br>"
   ]
  },
  {
   "attachments": {},
   "cell_type": "markdown",
   "metadata": {},
   "source": [
    "    ServerStorage - ServerStorage\n",
    "        scripts - Folder\n",
    "            MovementScript - Script\n",
    "                IdleAnim - Animation\n",
    "                WalkAnim - Animation"
   ]
  },
  {
   "cell_type": "code",
   "execution_count": null,
   "metadata": {},
   "outputs": [],
   "source": []
  }
 ],
 "metadata": {
  "kernelspec": {
   "display_name": "Python 3",
   "language": "python",
   "name": "python3"
  },
  "language_info": {
   "codemirror_mode": {
    "name": "ipython",
    "version": 3
   },
   "file_extension": ".py",
   "mimetype": "text/x-python",
   "name": "python",
   "nbconvert_exporter": "python",
   "pygments_lexer": "ipython3",
   "version": "3.8.10"
  },
  "orig_nbformat": 4
 },
 "nbformat": 4,
 "nbformat_minor": 2
}
