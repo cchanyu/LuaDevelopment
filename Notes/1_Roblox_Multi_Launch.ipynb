{
 "cells": [
  {
   "attachments": {},
   "cell_type": "markdown",
   "metadata": {},
   "source": [
    "### Roblox Launch Multiple Accounts<br>\n",
    "\n",
    "***\n",
    "\n",
    "<br>"
   ]
  },
  {
   "attachments": {},
   "cell_type": "markdown",
   "metadata": {},
   "source": [
    "1. Download **'Process Explorer'**<br>\n",
    "https://learn.microsoft.com/en-us/sysinternals/downloads/process-explorer<br>\n",
    "2. Open Roblox and Process Explorer<br>\n",
    "2. View > Show **'lower pane'**<br>\n",
    "Scroll down to **RobloxPlayerBeta.exe**<br>\n",
    "3. Click on it and find **'\\Sessions\\3\\BaseNamedObjects\\ROBLOX_singletonEvent'** and close handle.<br>\n",
    "4. Now you should be able to launch another Roblox account<br>\n",
    "\n",
    "### Auto Clicker Tutorial<br>\n",
    "\n",
    "*** \n",
    "\n",
    "<br>\n",
    "\n",
    "1. Download **AutoClicker by CyDoor(Github)**<br>\n",
    "https://github.com/CyDoor/AutoClicker/releases/tag/0.2<br>\n",
    "2. Open Autoclicker.exe<br>\n",
    "3. Press F1 on the position you want to click and F2 to save that position<br>\n",
    "4. Press F3 to start and F4 to stop<br>\n",
    "If the click is too fast, you can press Windows Key + Tab to view all windows<br>\n",
    "F4 only works when Autoclicker window is at the top<br>\n"
   ]
  },
  {
   "attachments": {},
   "cell_type": "markdown",
   "metadata": {},
   "source": [
    "### Grab the Roblox Audio files<br>\n",
    "\n",
    "*** \n",
    "\n",
    "<br>\n",
    "\n",
    "Roblox Audio Link: https://create.roblox.com/marketplace/soundeffects<br>\n",
    "API audio grabber: https://api.hyra.io/audio/[:AUDIOID]<br>\n",
    "Example: https://api.hyra.io/audio/:233854135<br>\n",
    "\n",
    "Audio Upload Link: https://create.roblox.com/dashboard/creations<br>\n",
    "Development Items -> Audio<br>"
   ]
  }
 ],
 "metadata": {
  "language_info": {
   "name": "python"
  },
  "orig_nbformat": 4
 },
 "nbformat": 4,
 "nbformat_minor": 2
}
